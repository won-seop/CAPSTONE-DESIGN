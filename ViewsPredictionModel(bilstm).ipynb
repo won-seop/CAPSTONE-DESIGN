{
  "cells": [
    {
      "cell_type": "markdown",
      "metadata": {
        "id": "view-in-github",
        "colab_type": "text"
      },
      "source": [
        "<a href=\"https://colab.research.google.com/github/won-seop/CAPSTONE-DESIGN/blob/main/ViewsPredictionModel(bilstm).ipynb\" target=\"_parent\"><img src=\"https://colab.research.google.com/assets/colab-badge.svg\" alt=\"Open In Colab\"/></a>"
      ]
    },
    {
      "cell_type": "code",
      "execution_count": null,
      "metadata": {
        "colab": {
          "base_uri": "https://localhost:8080/"
        },
        "id": "qrCs1Jhe0BYj",
        "outputId": "6580534d-a09e-4d55-bb61-6d0bee43ef49"
      },
      "outputs": [
        {
          "output_type": "stream",
          "name": "stdout",
          "text": [
            "Drive already mounted at /content/drive; to attempt to forcibly remount, call drive.mount(\"/content/drive\", force_remount=True).\n"
          ]
        }
      ],
      "source": [
        "from google.colab import drive\n",
        "drive.mount('/content/drive')"
      ]
    },
    {
      "cell_type": "code",
      "execution_count": null,
      "metadata": {
        "colab": {
          "base_uri": "https://localhost:8080/"
        },
        "id": "b1B8XC-V0mfb",
        "outputId": "f351450a-6177-40a3-b6dc-eb9f1654b4de"
      },
      "outputs": [
        {
          "output_type": "stream",
          "name": "stdout",
          "text": [
            "Requirement already satisfied: contractions in /usr/local/lib/python3.10/dist-packages (0.1.73)\n",
            "Requirement already satisfied: textsearch>=0.0.21 in /usr/local/lib/python3.10/dist-packages (from contractions) (0.0.24)\n",
            "Requirement already satisfied: anyascii in /usr/local/lib/python3.10/dist-packages (from textsearch>=0.0.21->contractions) (0.3.2)\n",
            "Requirement already satisfied: pyahocorasick in /usr/local/lib/python3.10/dist-packages (from textsearch>=0.0.21->contractions) (2.0.0)\n",
            "Requirement already satisfied: keras in /usr/local/lib/python3.10/dist-packages (2.13.1)\n",
            "Requirement already satisfied: konlpy in /usr/local/lib/python3.10/dist-packages (0.6.0)\n",
            "Requirement already satisfied: JPype1>=0.7.0 in /usr/local/lib/python3.10/dist-packages (from konlpy) (1.4.1)\n",
            "Requirement already satisfied: lxml>=4.1.0 in /usr/local/lib/python3.10/dist-packages (from konlpy) (4.9.3)\n",
            "Requirement already satisfied: numpy>=1.6 in /usr/local/lib/python3.10/dist-packages (from konlpy) (1.23.5)\n",
            "Requirement already satisfied: packaging in /usr/local/lib/python3.10/dist-packages (from JPype1>=0.7.0->konlpy) (23.1)\n",
            "Requirement already satisfied: scikeras in /usr/local/lib/python3.10/dist-packages (0.11.0)\n",
            "Requirement already satisfied: packaging>=0.21 in /usr/local/lib/python3.10/dist-packages (from scikeras) (23.1)\n",
            "Requirement already satisfied: scikit-learn>=1.0.0 in /usr/local/lib/python3.10/dist-packages (from scikeras) (1.2.2)\n",
            "Requirement already satisfied: numpy>=1.17.3 in /usr/local/lib/python3.10/dist-packages (from scikit-learn>=1.0.0->scikeras) (1.23.5)\n",
            "Requirement already satisfied: scipy>=1.3.2 in /usr/local/lib/python3.10/dist-packages (from scikit-learn>=1.0.0->scikeras) (1.11.3)\n",
            "Requirement already satisfied: joblib>=1.1.1 in /usr/local/lib/python3.10/dist-packages (from scikit-learn>=1.0.0->scikeras) (1.3.2)\n",
            "Requirement already satisfied: threadpoolctl>=2.0.0 in /usr/local/lib/python3.10/dist-packages (from scikit-learn>=1.0.0->scikeras) (3.2.0)\n"
          ]
        }
      ],
      "source": [
        "!pip install contractions\n",
        "!pip install keras\n",
        "!pip install konlpy\n",
        "!pip install scikeras"
      ]
    },
    {
      "cell_type": "code",
      "execution_count": null,
      "metadata": {
        "colab": {
          "base_uri": "https://localhost:8080/"
        },
        "id": "NWnfIUwl4OKJ",
        "outputId": "381c5618-6ff4-4ccd-db49-894fe09f7762"
      },
      "outputs": [
        {
          "output_type": "execute_result",
          "data": {
            "text/plain": [
              "True"
            ]
          },
          "metadata": {},
          "execution_count": 108
        }
      ],
      "source": [
        "import torch\n",
        "torch.cuda.is_available()"
      ]
    },
    {
      "cell_type": "markdown",
      "metadata": {
        "id": "GIFqrpKeUQwQ"
      },
      "source": [
        "전처리"
      ]
    },
    {
      "cell_type": "code",
      "execution_count": null,
      "metadata": {
        "id": "8ZN17yFJcLxk"
      },
      "outputs": [],
      "source": [
        "import pandas as pd\n",
        "import re\n",
        "import contractions\n",
        "import spacy\n",
        "import en_core_web_sm\n",
        "from keras.preprocessing.text import Tokenizer\n",
        "from keras.utils import pad_sequences\n",
        "from sklearn.model_selection import train_test_split\n",
        "from keras import Sequential\n",
        "from keras.layers import Embedding, Dense, Dropout, Flatten, LSTM, Bidirectional\n",
        "import matplotlib.pyplot as plt\n",
        "import numpy as np\n",
        "import keras\n",
        "from konlpy.tag import Okt\n",
        "from konlpy.tag import Kkma\n",
        "from keras.models import load_model\n",
        "import math\n",
        "import pickle\n",
        "import seaborn as sns\n",
        "import matplotlib.pyplot as plt\n",
        "from konlpy.tag import Okt\n",
        "from gensim.models import Word2Vec\n",
        "from sklearn.metrics import mean_squared_error, mean_absolute_error\n",
        "from scikeras.wrappers import KerasClassifier, KerasRegressor\n",
        "from sklearn.model_selection import RandomizedSearchCV\n",
        "from sklearn.preprocessing import MinMaxScaler"
      ]
    },
    {
      "cell_type": "code",
      "execution_count": null,
      "metadata": {
        "colab": {
          "base_uri": "https://localhost:8080/"
        },
        "id": "feSWCcP8Fhtd",
        "outputId": "7a614c0b-1748-44ed-e769-e822869039aa"
      },
      "outputs": [
        {
          "output_type": "stream",
          "name": "stdout",
          "text": [
            "title     object\n",
            "views    float64\n",
            "dtype: object\n",
            "[<class 'str'>]\n",
            "                                                   title    views\n",
            "0                                         나홀로 아이폰 사러 오사카   6409.0\n",
            "1      김광석님이라니 대한민국 과학기술대전의 놀라운 현장 걱정하지 마세요 미래는 준비돼 있습니다   1153.0\n",
            "2                         노션 사용기 업무용 단기계획용 이력서용 노션 만드는 법   3992.0\n",
            "3               갤럭시 어떻게 나올까 정말 네이밍이 바뀔까 들려오는 소식들 정리했습니다   23508.0\n",
            "4         갤럭시버즈라이브 에어팟프로 비교 들어갈게 최신 무선이어폰 사운드 통화연결 노캔 비교  24715.0\n",
            "...                                                  ...      ...\n",
            "89573                                    거대한 갭메우기가 시작됩니다  10959.0\n",
            "89574  통계 사상 경기 인천 최대 폭등 기록 예전 가격으로 다시 돌아가지 않는 인플레이션과...  25273.0\n",
            "89575  화폐개혁 그냥 떠본게 아닌 것 같다 디플레이션 공포와 부동산 시장의 미래는 놀부부동...  83201.0\n",
            "89576  속보 만기 주택담보대출 중단 나이 제한 걸리고 있네요 서두르셔야 할 것 같습니다 놀...   2600.0\n",
            "89577          전월세 신고제 시작 임차 시장 자금 흐름 투명화와 그 결과는 바로 이것이다  47154.0\n",
            "\n",
            "[89577 rows x 2 columns]\n",
            "                                                   title    views\n",
            "0                                         나홀로 아이폰 사러 오사카   6409.0\n",
            "1      김광석님이라니 대한민국 과학기술대전의 놀라운 현장 걱정하지 마세요 미래는 준비돼 있습니다   1153.0\n",
            "2                         노션 사용기 업무용 단기계획용 이력서용 노션 만드는 법   3992.0\n",
            "3               갤럭시 어떻게 나올까 정말 네이밍이 바뀔까 들려오는 소식들 정리했습니다   23508.0\n",
            "4         갤럭시버즈라이브 에어팟프로 비교 들어갈게 최신 무선이어폰 사운드 통화연결 노캔 비교  24715.0\n",
            "...                                                  ...      ...\n",
            "89573                                    거대한 갭메우기가 시작됩니다  10959.0\n",
            "89574  통계 사상 경기 인천 최대 폭등 기록 예전 가격으로 다시 돌아가지 않는 인플레이션과...  25273.0\n",
            "89575  화폐개혁 그냥 떠본게 아닌 것 같다 디플레이션 공포와 부동산 시장의 미래는 놀부부동...  83201.0\n",
            "89576  속보 만기 주택담보대출 중단 나이 제한 걸리고 있네요 서두르셔야 할 것 같습니다 놀...   2600.0\n",
            "89577          전월세 신고제 시작 임차 시장 자금 흐름 투명화와 그 결과는 바로 이것이다  47154.0\n",
            "\n",
            "[78287 rows x 2 columns]\n",
            "43747.290329173426\n"
          ]
        }
      ],
      "source": [
        "#!/usr/bin/env python3\n",
        "# -*- coding: utf-8 -*-\n",
        "\n",
        "#LOAD DATA\n",
        "nt = pd.read_csv('/content/drive/MyDrive/Capstone Design/youtubeData/totalYoutubeData_3.csv', encoding='utf-8')\n",
        "nt = nt[['title_data', 'views_data']]\n",
        "nt.columns = ['title', 'views']\n",
        "print(nt.dtypes)\n",
        "\n",
        "\n",
        "#문자열이 아닌 행 제거\n",
        "nt = nt[nt['title'].apply(lambda x: isinstance(x, str))]\n",
        "print(nt['title'].apply(type).unique())\n",
        "\n",
        "#특수문자 제거\n",
        "nt['title'] = nt['title'].apply(lambda x: re.sub('[^ㄱ-ㅎㅏ-ㅣ가-힣\\s]', '', x))\n",
        "\n",
        "# 'title' 컬럼에서 NaN 값이 있는 행 제거\n",
        "nt = nt.dropna(subset=['title'])\n",
        "nt = nt.dropna(subset=['views'])\n",
        "\n",
        "#공백으로 이루어진 행을 제거\n",
        "nt = nt[nt['title'].str.strip() != '']\n",
        "\n",
        "print(nt)\n",
        "# IQR 계산\n",
        "Q1 = np.percentile(nt['views'], 25)\n",
        "Q3 = np.percentile(nt['views'], 75)\n",
        "IQR = Q3 - Q1\n",
        "\n",
        "# 이상치의 상한값과 하한값 계산\n",
        "upper_bound = Q3 + 1.5 * IQR\n",
        "lower_bound = Q1 - 1.5 * IQR\n",
        "\n",
        "# 이상치를 식별하여 제거\n",
        "filtered_data = nt[(nt['views'] >= lower_bound) & (nt['views'] <= upper_bound)]\n",
        "\n",
        "# 이상치가 제거된 데이터셋\n",
        "df=filtered_data['views']\n",
        "print(filtered_data)\n",
        "print(filtered_data['views'].mean())\n",
        "top_10_views = filtered_data['views'].nlargest(10)"
      ]
    },
    {
      "cell_type": "code",
      "execution_count": null,
      "metadata": {
        "colab": {
          "base_uri": "https://localhost:8080/"
        },
        "id": "Z71EW2kVZUUI",
        "outputId": "ac16474e-9497-4857-b8eb-3a171007b7c7"
      },
      "outputs": [
        {
          "output_type": "stream",
          "name": "stderr",
          "text": [
            "<ipython-input-111-157fe1bcfb9f>:11: SettingWithCopyWarning: \n",
            "A value is trying to be set on a copy of a slice from a DataFrame.\n",
            "Try using .loc[row_indexer,col_indexer] = value instead\n",
            "\n",
            "See the caveats in the documentation: https://pandas.pydata.org/pandas-docs/stable/user_guide/indexing.html#returning-a-view-versus-a-copy\n",
            "  filtered_data['normalized_data'] = views_normalized\n"
          ]
        }
      ],
      "source": [
        "# MinMaxScaler 객체 생성\n",
        "scaler = MinMaxScaler()\n",
        "\n",
        "# '조회수' 열 데이터 추출\n",
        "views_data = filtered_data['views'].values.reshape(-1, 1)  # 2차원 배열로 변환\n",
        "\n",
        "# 조회수 데이터 정규화 (0에서 1 사이의 값으로 스케일링)\n",
        "views_normalized = scaler.fit_transform(views_data)\n",
        "\n",
        "# 정규화된 값을 'normalized_data' 열에 추가\n",
        "filtered_data['normalized_data'] = views_normalized"
      ]
    },
    {
      "cell_type": "code",
      "source": [
        "nomalized_title=filtered_data['title']\n",
        "nomalized_views=filtered_data['normalized_data']\n",
        "nomalized_data={'title':nomalized_title,'nomalized_views':nomalized_views}\n",
        "nomalized_df=pd.DataFrame(nomalized_data)\n",
        "nomalized_df"
      ],
      "metadata": {
        "colab": {
          "base_uri": "https://localhost:8080/",
          "height": 423
        },
        "cellView": "code",
        "id": "Ku3xShTCSmYa",
        "outputId": "cc452383-b6f2-459d-cf3e-83424fbe9b4b"
      },
      "execution_count": null,
      "outputs": [
        {
          "output_type": "execute_result",
          "data": {
            "text/plain": [
              "                                                   title  nomalized_views\n",
              "0                                         나홀로 아이폰 사러 오사카         0.026714\n",
              "1      김광석님이라니 대한민국 과학기술대전의 놀라운 현장 걱정하지 마세요 미래는 준비돼 있습니다         0.004806\n",
              "2                         노션 사용기 업무용 단기계획용 이력서용 노션 만드는 법         0.016640\n",
              "3               갤럭시 어떻게 나올까 정말 네이밍이 바뀔까 들려오는 소식들 정리했습니다          0.097987\n",
              "4         갤럭시버즈라이브 에어팟프로 비교 들어갈게 최신 무선이어폰 사운드 통화연결 노캔 비교         0.103018\n",
              "...                                                  ...              ...\n",
              "89573                                    거대한 갭메우기가 시작됩니다         0.045680\n",
              "89574  통계 사상 경기 인천 최대 폭등 기록 예전 가격으로 다시 돌아가지 않는 인플레이션과...         0.105344\n",
              "89575  화폐개혁 그냥 떠본게 아닌 것 같다 디플레이션 공포와 부동산 시장의 미래는 놀부부동...         0.346802\n",
              "89576  속보 만기 주택담보대출 중단 나이 제한 걸리고 있네요 서두르셔야 할 것 같습니다 놀...         0.010837\n",
              "89577          전월세 신고제 시작 임차 시장 자금 흐름 투명화와 그 결과는 바로 이것이다         0.196550\n",
              "\n",
              "[78287 rows x 2 columns]"
            ],
            "text/html": [
              "\n",
              "  <div id=\"df-2333544e-8120-4c64-918d-52b0e4ab63b0\" class=\"colab-df-container\">\n",
              "    <div>\n",
              "<style scoped>\n",
              "    .dataframe tbody tr th:only-of-type {\n",
              "        vertical-align: middle;\n",
              "    }\n",
              "\n",
              "    .dataframe tbody tr th {\n",
              "        vertical-align: top;\n",
              "    }\n",
              "\n",
              "    .dataframe thead th {\n",
              "        text-align: right;\n",
              "    }\n",
              "</style>\n",
              "<table border=\"1\" class=\"dataframe\">\n",
              "  <thead>\n",
              "    <tr style=\"text-align: right;\">\n",
              "      <th></th>\n",
              "      <th>title</th>\n",
              "      <th>nomalized_views</th>\n",
              "    </tr>\n",
              "  </thead>\n",
              "  <tbody>\n",
              "    <tr>\n",
              "      <th>0</th>\n",
              "      <td>나홀로 아이폰 사러 오사카</td>\n",
              "      <td>0.026714</td>\n",
              "    </tr>\n",
              "    <tr>\n",
              "      <th>1</th>\n",
              "      <td>김광석님이라니 대한민국 과학기술대전의 놀라운 현장 걱정하지 마세요 미래는 준비돼 있습니다</td>\n",
              "      <td>0.004806</td>\n",
              "    </tr>\n",
              "    <tr>\n",
              "      <th>2</th>\n",
              "      <td>노션 사용기 업무용 단기계획용 이력서용 노션 만드는 법</td>\n",
              "      <td>0.016640</td>\n",
              "    </tr>\n",
              "    <tr>\n",
              "      <th>3</th>\n",
              "      <td>갤럭시 어떻게 나올까 정말 네이밍이 바뀔까 들려오는 소식들 정리했습니다</td>\n",
              "      <td>0.097987</td>\n",
              "    </tr>\n",
              "    <tr>\n",
              "      <th>4</th>\n",
              "      <td>갤럭시버즈라이브 에어팟프로 비교 들어갈게 최신 무선이어폰 사운드 통화연결 노캔 비교</td>\n",
              "      <td>0.103018</td>\n",
              "    </tr>\n",
              "    <tr>\n",
              "      <th>...</th>\n",
              "      <td>...</td>\n",
              "      <td>...</td>\n",
              "    </tr>\n",
              "    <tr>\n",
              "      <th>89573</th>\n",
              "      <td>거대한 갭메우기가 시작됩니다</td>\n",
              "      <td>0.045680</td>\n",
              "    </tr>\n",
              "    <tr>\n",
              "      <th>89574</th>\n",
              "      <td>통계 사상 경기 인천 최대 폭등 기록 예전 가격으로 다시 돌아가지 않는 인플레이션과...</td>\n",
              "      <td>0.105344</td>\n",
              "    </tr>\n",
              "    <tr>\n",
              "      <th>89575</th>\n",
              "      <td>화폐개혁 그냥 떠본게 아닌 것 같다 디플레이션 공포와 부동산 시장의 미래는 놀부부동...</td>\n",
              "      <td>0.346802</td>\n",
              "    </tr>\n",
              "    <tr>\n",
              "      <th>89576</th>\n",
              "      <td>속보 만기 주택담보대출 중단 나이 제한 걸리고 있네요 서두르셔야 할 것 같습니다 놀...</td>\n",
              "      <td>0.010837</td>\n",
              "    </tr>\n",
              "    <tr>\n",
              "      <th>89577</th>\n",
              "      <td>전월세 신고제 시작 임차 시장 자금 흐름 투명화와 그 결과는 바로 이것이다</td>\n",
              "      <td>0.196550</td>\n",
              "    </tr>\n",
              "  </tbody>\n",
              "</table>\n",
              "<p>78287 rows × 2 columns</p>\n",
              "</div>\n",
              "    <div class=\"colab-df-buttons\">\n",
              "\n",
              "  <div class=\"colab-df-container\">\n",
              "    <button class=\"colab-df-convert\" onclick=\"convertToInteractive('df-2333544e-8120-4c64-918d-52b0e4ab63b0')\"\n",
              "            title=\"Convert this dataframe to an interactive table.\"\n",
              "            style=\"display:none;\">\n",
              "\n",
              "  <svg xmlns=\"http://www.w3.org/2000/svg\" height=\"24px\" viewBox=\"0 -960 960 960\">\n",
              "    <path d=\"M120-120v-720h720v720H120Zm60-500h600v-160H180v160Zm220 220h160v-160H400v160Zm0 220h160v-160H400v160ZM180-400h160v-160H180v160Zm440 0h160v-160H620v160ZM180-180h160v-160H180v160Zm440 0h160v-160H620v160Z\"/>\n",
              "  </svg>\n",
              "    </button>\n",
              "\n",
              "  <style>\n",
              "    .colab-df-container {\n",
              "      display:flex;\n",
              "      gap: 12px;\n",
              "    }\n",
              "\n",
              "    .colab-df-convert {\n",
              "      background-color: #E8F0FE;\n",
              "      border: none;\n",
              "      border-radius: 50%;\n",
              "      cursor: pointer;\n",
              "      display: none;\n",
              "      fill: #1967D2;\n",
              "      height: 32px;\n",
              "      padding: 0 0 0 0;\n",
              "      width: 32px;\n",
              "    }\n",
              "\n",
              "    .colab-df-convert:hover {\n",
              "      background-color: #E2EBFA;\n",
              "      box-shadow: 0px 1px 2px rgba(60, 64, 67, 0.3), 0px 1px 3px 1px rgba(60, 64, 67, 0.15);\n",
              "      fill: #174EA6;\n",
              "    }\n",
              "\n",
              "    .colab-df-buttons div {\n",
              "      margin-bottom: 4px;\n",
              "    }\n",
              "\n",
              "    [theme=dark] .colab-df-convert {\n",
              "      background-color: #3B4455;\n",
              "      fill: #D2E3FC;\n",
              "    }\n",
              "\n",
              "    [theme=dark] .colab-df-convert:hover {\n",
              "      background-color: #434B5C;\n",
              "      box-shadow: 0px 1px 3px 1px rgba(0, 0, 0, 0.15);\n",
              "      filter: drop-shadow(0px 1px 2px rgba(0, 0, 0, 0.3));\n",
              "      fill: #FFFFFF;\n",
              "    }\n",
              "  </style>\n",
              "\n",
              "    <script>\n",
              "      const buttonEl =\n",
              "        document.querySelector('#df-2333544e-8120-4c64-918d-52b0e4ab63b0 button.colab-df-convert');\n",
              "      buttonEl.style.display =\n",
              "        google.colab.kernel.accessAllowed ? 'block' : 'none';\n",
              "\n",
              "      async function convertToInteractive(key) {\n",
              "        const element = document.querySelector('#df-2333544e-8120-4c64-918d-52b0e4ab63b0');\n",
              "        const dataTable =\n",
              "          await google.colab.kernel.invokeFunction('convertToInteractive',\n",
              "                                                    [key], {});\n",
              "        if (!dataTable) return;\n",
              "\n",
              "        const docLinkHtml = 'Like what you see? Visit the ' +\n",
              "          '<a target=\"_blank\" href=https://colab.research.google.com/notebooks/data_table.ipynb>data table notebook</a>'\n",
              "          + ' to learn more about interactive tables.';\n",
              "        element.innerHTML = '';\n",
              "        dataTable['output_type'] = 'display_data';\n",
              "        await google.colab.output.renderOutput(dataTable, element);\n",
              "        const docLink = document.createElement('div');\n",
              "        docLink.innerHTML = docLinkHtml;\n",
              "        element.appendChild(docLink);\n",
              "      }\n",
              "    </script>\n",
              "  </div>\n",
              "\n",
              "\n",
              "<div id=\"df-3440fea0-c287-4b6e-8663-4631080d9987\">\n",
              "  <button class=\"colab-df-quickchart\" onclick=\"quickchart('df-3440fea0-c287-4b6e-8663-4631080d9987')\"\n",
              "            title=\"Suggest charts.\"\n",
              "            style=\"display:none;\">\n",
              "\n",
              "<svg xmlns=\"http://www.w3.org/2000/svg\" height=\"24px\"viewBox=\"0 0 24 24\"\n",
              "     width=\"24px\">\n",
              "    <g>\n",
              "        <path d=\"M19 3H5c-1.1 0-2 .9-2 2v14c0 1.1.9 2 2 2h14c1.1 0 2-.9 2-2V5c0-1.1-.9-2-2-2zM9 17H7v-7h2v7zm4 0h-2V7h2v10zm4 0h-2v-4h2v4z\"/>\n",
              "    </g>\n",
              "</svg>\n",
              "  </button>\n",
              "\n",
              "<style>\n",
              "  .colab-df-quickchart {\n",
              "      --bg-color: #E8F0FE;\n",
              "      --fill-color: #1967D2;\n",
              "      --hover-bg-color: #E2EBFA;\n",
              "      --hover-fill-color: #174EA6;\n",
              "      --disabled-fill-color: #AAA;\n",
              "      --disabled-bg-color: #DDD;\n",
              "  }\n",
              "\n",
              "  [theme=dark] .colab-df-quickchart {\n",
              "      --bg-color: #3B4455;\n",
              "      --fill-color: #D2E3FC;\n",
              "      --hover-bg-color: #434B5C;\n",
              "      --hover-fill-color: #FFFFFF;\n",
              "      --disabled-bg-color: #3B4455;\n",
              "      --disabled-fill-color: #666;\n",
              "  }\n",
              "\n",
              "  .colab-df-quickchart {\n",
              "    background-color: var(--bg-color);\n",
              "    border: none;\n",
              "    border-radius: 50%;\n",
              "    cursor: pointer;\n",
              "    display: none;\n",
              "    fill: var(--fill-color);\n",
              "    height: 32px;\n",
              "    padding: 0;\n",
              "    width: 32px;\n",
              "  }\n",
              "\n",
              "  .colab-df-quickchart:hover {\n",
              "    background-color: var(--hover-bg-color);\n",
              "    box-shadow: 0 1px 2px rgba(60, 64, 67, 0.3), 0 1px 3px 1px rgba(60, 64, 67, 0.15);\n",
              "    fill: var(--button-hover-fill-color);\n",
              "  }\n",
              "\n",
              "  .colab-df-quickchart-complete:disabled,\n",
              "  .colab-df-quickchart-complete:disabled:hover {\n",
              "    background-color: var(--disabled-bg-color);\n",
              "    fill: var(--disabled-fill-color);\n",
              "    box-shadow: none;\n",
              "  }\n",
              "\n",
              "  .colab-df-spinner {\n",
              "    border: 2px solid var(--fill-color);\n",
              "    border-color: transparent;\n",
              "    border-bottom-color: var(--fill-color);\n",
              "    animation:\n",
              "      spin 1s steps(1) infinite;\n",
              "  }\n",
              "\n",
              "  @keyframes spin {\n",
              "    0% {\n",
              "      border-color: transparent;\n",
              "      border-bottom-color: var(--fill-color);\n",
              "      border-left-color: var(--fill-color);\n",
              "    }\n",
              "    20% {\n",
              "      border-color: transparent;\n",
              "      border-left-color: var(--fill-color);\n",
              "      border-top-color: var(--fill-color);\n",
              "    }\n",
              "    30% {\n",
              "      border-color: transparent;\n",
              "      border-left-color: var(--fill-color);\n",
              "      border-top-color: var(--fill-color);\n",
              "      border-right-color: var(--fill-color);\n",
              "    }\n",
              "    40% {\n",
              "      border-color: transparent;\n",
              "      border-right-color: var(--fill-color);\n",
              "      border-top-color: var(--fill-color);\n",
              "    }\n",
              "    60% {\n",
              "      border-color: transparent;\n",
              "      border-right-color: var(--fill-color);\n",
              "    }\n",
              "    80% {\n",
              "      border-color: transparent;\n",
              "      border-right-color: var(--fill-color);\n",
              "      border-bottom-color: var(--fill-color);\n",
              "    }\n",
              "    90% {\n",
              "      border-color: transparent;\n",
              "      border-bottom-color: var(--fill-color);\n",
              "    }\n",
              "  }\n",
              "</style>\n",
              "\n",
              "  <script>\n",
              "    async function quickchart(key) {\n",
              "      const quickchartButtonEl =\n",
              "        document.querySelector('#' + key + ' button');\n",
              "      quickchartButtonEl.disabled = true;  // To prevent multiple clicks.\n",
              "      quickchartButtonEl.classList.add('colab-df-spinner');\n",
              "      try {\n",
              "        const charts = await google.colab.kernel.invokeFunction(\n",
              "            'suggestCharts', [key], {});\n",
              "      } catch (error) {\n",
              "        console.error('Error during call to suggestCharts:', error);\n",
              "      }\n",
              "      quickchartButtonEl.classList.remove('colab-df-spinner');\n",
              "      quickchartButtonEl.classList.add('colab-df-quickchart-complete');\n",
              "    }\n",
              "    (() => {\n",
              "      let quickchartButtonEl =\n",
              "        document.querySelector('#df-3440fea0-c287-4b6e-8663-4631080d9987 button');\n",
              "      quickchartButtonEl.style.display =\n",
              "        google.colab.kernel.accessAllowed ? 'block' : 'none';\n",
              "    })();\n",
              "  </script>\n",
              "</div>\n",
              "    </div>\n",
              "  </div>\n"
            ]
          },
          "metadata": {},
          "execution_count": 112
        }
      ]
    },
    {
      "cell_type": "code",
      "execution_count": null,
      "metadata": {
        "id": "zfyGAQlFBhSB"
      },
      "outputs": [],
      "source": [
        "X_train, X_test, y_train, y_test = train_test_split(filtered_data['title'], filtered_data['normalized_data'], test_size=0.2, random_state=42)"
      ]
    },
    {
      "cell_type": "markdown",
      "metadata": {
        "id": "FX0q10_IT-VX"
      },
      "source": [
        "텍스트 토큰화"
      ]
    },
    {
      "cell_type": "code",
      "execution_count": null,
      "metadata": {
        "id": "TmmtEh2NCQNp"
      },
      "outputs": [],
      "source": [
        "okt = Okt()\n",
        "X_train_tokenized = X_train.apply(lambda x: okt.morphs(x))"
      ]
    },
    {
      "cell_type": "markdown",
      "metadata": {
        "id": "Z305Gp9bUM1y"
      },
      "source": [
        "텍스트 벡터화"
      ]
    },
    {
      "cell_type": "code",
      "execution_count": null,
      "metadata": {
        "id": "RmDhqKYxTglG"
      },
      "outputs": [],
      "source": [
        "# Tokenizer를 사용하여 단어를 숫자 시퀀스로 변환\n",
        "tokenizer = Tokenizer()\n",
        "tokenizer.fit_on_texts(X_train_tokenized)\n",
        "X_train_sequences = tokenizer.texts_to_sequences(X_train_tokenized)\n",
        "\n",
        "# 시퀀스 데이터를 패딩하여 길이를 맞춤\n",
        "max_length = max([len(seq) for seq in X_train_sequences])\n",
        "X_train_padded = pad_sequences(X_train_sequences, maxlen=max_length, padding='post')\n",
        "\n",
        "# Word2Vec 모델 학습\n",
        "word2vec_model = Word2Vec(sentences=X_train_tokenized, vector_size=100, window=5, min_count=1, workers=4, sg=1)\n",
        "\n",
        "# 임베딩 매트릭스 생성\n",
        "embedding_matrix = np.zeros((len(tokenizer.word_index) + 1, 100))\n",
        "for word, idx in tokenizer.word_index.items():\n",
        "    try:\n",
        "        embedding_vector = word2vec_model.wv[word]\n",
        "        # 'gta'와 같은 단어가 없을 경우 embedding_vector는 None이 됩니다.\n",
        "        if embedding_vector is not None:\n",
        "            embedding_matrix[idx] = embedding_vector\n",
        "    except KeyError:\n",
        "        # Word2Vec 모델에 해당 단어가 없는 경우 KeyError가 발생하며 embedding_vector는 None이 됩니다.\n",
        "        embedding_vector = None"
      ]
    },
    {
      "cell_type": "code",
      "execution_count": null,
      "metadata": {
        "id": "K1EIsENic2Ft"
      },
      "outputs": [],
      "source": [
        "'''\n",
        "print(word2vec_model.wv.vectors.shape)\n",
        "wv_result=word2vec_model.wv.most_similar(\"데이트\")\n",
        "print(wv_result)\n",
        "'''"
      ]
    },
    {
      "cell_type": "markdown",
      "metadata": {
        "id": "-UWc5NclUVHT"
      },
      "source": [
        "모델 학습"
      ]
    },
    {
      "cell_type": "code",
      "execution_count": null,
      "metadata": {
        "id": "rMkZ0b9bcALY"
      },
      "outputs": [],
      "source": [
        "\n",
        "#모델 정의\n",
        "model = Sequential()\n",
        "\n",
        "# 임베딩 레이어 설정\n",
        "embedding_layer = Embedding(input_dim=len(tokenizer.word_index) + 1,\n",
        "                            output_dim=100,\n",
        "                            weights=[embedding_matrix],\n",
        "                            input_length=max_length,\n",
        "                            trainable=False)  # 사전 훈련된 임베딩을 사용하므로 trainable을 False로 설정\n",
        "\n",
        "model.add(embedding_layer)\n",
        "model.add(Bidirectional(LSTM(32)))  # 양방향 LSTM 레이어\n",
        "model.add(Dense(1, activation='linear'))  # 회귀 모델을 위한 출력 레이어\n",
        "\n",
        "# 모델 컴파일\n",
        "model.compile(loss='mean_squared_error', optimizer='adam', metrics=['mse'])\n",
        "\n",
        "# 모델 요약 출력\n",
        "model.summary()\n",
        "\n",
        "# 모델 학습\n",
        "model.fit(X_train_padded, y_train, epochs=10, batch_size=32, validation_split=0.2)"
      ]
    },
    {
      "cell_type": "code",
      "execution_count": null,
      "metadata": {
        "id": "B6PJzP1eeWsO"
      },
      "outputs": [],
      "source": [
        "X_test_tokenized = X_test.apply(lambda x: okt.morphs(x))\n",
        "\n",
        "# LSTM 모델에 입력할 형태로 시퀀스 데이터 변환\n",
        "X_test_sequences = tokenizer.texts_to_sequences(X_test_tokenized)\n",
        "X_test_padded = pad_sequences(X_test_sequences, maxlen=max_length, padding='post')"
      ]
    },
    {
      "cell_type": "code",
      "source": [
        "# LSTM 모델에서 예측값 계산\n",
        "predictions = model.predict(X_test_padded)\n",
        "\n",
        "# 정규화된 조회수 열 데이터로 예측값 역변환 (원래 스케일로 변환)\n",
        "predicted_views = scaler.inverse_transform(predictions)\n",
        "\n",
        "y_test_np = np.array(y_test).reshape(-1, 1)\n",
        "y_test_original_scale = scaler.inverse_transform(y_test_np)\n",
        "\n",
        "# 예측값과 실제값 간의 평가 (예를 들어, 평균 제곱 오차 계산)\n",
        "rmse = mean_squared_error(y_test_original_scale, predicted_views)**0.5\n",
        "print(f\"Root Mean Squared Error: {rmse}\")"
      ],
      "metadata": {
        "id": "n0auFZwvR7iB"
      },
      "execution_count": null,
      "outputs": []
    },
    {
      "cell_type": "code",
      "source": [
        "'''\n",
        "predict_data={'title':X_test,'predicted_views':predicted_views,'y_test':y_test_original_scale_list}\n",
        "predict_df=pd.DataFrame(predict_data)\n",
        "predict_df\n",
        "'''"
      ],
      "metadata": {
        "id": "yZHNoQKJpOjR"
      },
      "execution_count": null,
      "outputs": []
    },
    {
      "cell_type": "code",
      "execution_count": null,
      "metadata": {
        "id": "C9BfNvO6Uj-K"
      },
      "outputs": [],
      "source": [
        "'''\n",
        "# BiLSTM 모델을 생성하는 함수 정의\n",
        "def create_bilstm_model(units=64):\n",
        "    model = Sequential()\n",
        "    model.add(Embedding(input_dim=len(tokenizer.word_index) + 1,\n",
        "                        output_dim=100,\n",
        "                        input_length=max_length,\n",
        "                        weights=[embedding_matrix],  # 임베딩 매트릭스 설정\n",
        "                        trainable=False))  # 임베딩 레이어의 가중치 동결\n",
        "    model.add(Bidirectional(LSTM(units=units, return_sequences=True)))\n",
        "    model.add(Bidirectional(LSTM(units=units)))\n",
        "    model.add(Dense(1))\n",
        "    model.compile(optimizer='adam', loss='mean_squared_error')\n",
        "    return model\n",
        "\n",
        "# KerasRegressor로 모델 래핑\n",
        "model = KerasRegressor(build_fn=create_bilstm_model, units=64, epochs=10, batch_size=64, verbose=1)\n",
        "\n",
        "# 하이퍼파라미터 탐색을 위한 그리드 설정\n",
        "param_dist = {\n",
        "    'units': [32, 64, 128],  # BiLSTM 레이어의 유닛 수에 대한 후보 값들\n",
        "}\n",
        "\n",
        "# 랜덤 서치를 이용한 하이퍼파라미터 탐색\n",
        "random_search = RandomizedSearchCV(estimator=model, param_distributions=param_dist,\n",
        "                                   n_iter=10, cv=3, n_jobs=-1, random_state=42)\n",
        "random_search.fit(X_train_padded, y_train)\n",
        "\n",
        "# 최적의 하이퍼파라미터 출력\n",
        "print(\"Best Hyperparameters: \", random_search.best_params_)\n",
        "\n",
        "# 최적의 모델 얻기\n",
        "best_model = random_search.best_estimator_\n",
        "'''"
      ]
    },
    {
      "cell_type": "code",
      "source": [
        "'''\n",
        "X_test_tokenized = X_test.apply(lambda x: okt.morphs(x))\n",
        "\n",
        "# LSTM 모델에 입력할 형태로 시퀀스 데이터 변환\n",
        "X_test_sequences = tokenizer.texts_to_sequences(X_test_tokenized)\n",
        "X_test_padded = pad_sequences(X_test_sequences, maxlen=max_length, padding='post')\n",
        "\n",
        "predictions = model.predict(X_test_padded)\n",
        "\n",
        "# 정규화된 조회수 열 데이터로 예측값 역변환 (원래 스케일로 변환)\n",
        "predicted_views = scaler.inverse_transform(predictions)\n",
        "\n",
        "y_test_np = np.array(y_test).reshape(-1, 1)\n",
        "y_test_original_scale = scaler.inverse_transform(y_test_np)\n",
        "\n",
        "# 예측값과 실제값 간의 평가 (예를 들어, 평균 제곱 오차 계산)\n",
        "mse = mean_squared_error(y_test_original_scale, predicted_views)\n",
        "mae = mean_absolute_error(y_test_original_scale, predicted_views)\n",
        "print(f\"Mean Squared Error: {mse}\")\n",
        "print(f\"Mean Absolute Error: {mae}\")\n",
        "'''"
      ],
      "metadata": {
        "id": "5e5ZH8hCYkfa"
      },
      "execution_count": null,
      "outputs": []
    },
    {
      "cell_type": "code",
      "execution_count": null,
      "metadata": {
        "id": "Nr2eZnlugUBo"
      },
      "outputs": [],
      "source": [
        "'''\n",
        "# PLOT\n",
        "plt.plot(best_model.history['loss'])\n",
        "plt.plot(best_model.history['val_loss'])\n",
        "plt.title('model loss')\n",
        "plt.ylabel('loss')\n",
        "plt.xlabel('epoch')\n",
        "plt.legend(['train', 'test'], loc='upper left')\n",
        "plt.show()\n",
        "'''"
      ]
    },
    {
      "cell_type": "markdown",
      "metadata": {
        "id": "sJYXGK6rUrgF"
      },
      "source": [
        "모델 저장"
      ]
    },
    {
      "cell_type": "code",
      "execution_count": null,
      "metadata": {
        "id": "3NVrhUxh1i2F"
      },
      "outputs": [],
      "source": [
        "model.save(\"/content/drive/MyDrive/Capstone Design/youtubeViewsPrediction/BiLstm.h5\")"
      ]
    },
    {
      "cell_type": "code",
      "execution_count": null,
      "metadata": {
        "id": "osCTXtb2K6fL"
      },
      "outputs": [],
      "source": [
        "#PREDICT NEW TITLE\n",
        "with open('/content/drive/MyDrive/Capstone Design/youtubeViewsPrediction/lstm.pickle', 'wb') as handle:\n",
        "    pickle.dump(tokenizer, handle, protocol=pickle.HIGHEST_PROTOCOL)"
      ]
    },
    {
      "cell_type": "markdown",
      "metadata": {
        "id": "85-WKpBhSzjA"
      },
      "source": [
        "모델 테스트"
      ]
    },
    {
      "cell_type": "code",
      "execution_count": null,
      "metadata": {
        "id": "ttqAFr6jyAIp"
      },
      "outputs": [],
      "source": [
        "from keras.models import load_model\n",
        "import pickle\n",
        "with open('/content/drive/MyDrive/Capstone Design/youtubeViewsPrediction/lstm.pickle', 'rb') as handle:\n",
        "    loaded_tokenizer = pickle.load(handle)\n",
        "model = load_model('/content/drive/MyDrive/Capstone Design/youtubeViewsPrediction/BiLstm.h5')\n",
        "\n",
        "def predictView(title):\n",
        "    import math\n",
        "\n",
        "    input_str = title\n",
        "    input_df = pd.DataFrame(columns=['title', 'view'])\n",
        "    input_df = input_df.append({'title' : input_str} , ignore_index=True)\n",
        "    seq = loaded_tokenizer.texts_to_sequences(input_df['title'].values)\n",
        "    padded = pad_sequences(seq, 58)\n",
        "    pred = math.exp(model.predict(padded))\n",
        "    return pred\n",
        "\n",
        "#TEST\n",
        "\n",
        "print(predictView(\"다이어트시 자주하는 3가지 실수\"))"
      ]
    }
  ],
  "metadata": {
    "accelerator": "GPU",
    "colab": {
      "provenance": [],
      "include_colab_link": true
    },
    "kernelspec": {
      "display_name": "Python 3",
      "name": "python3"
    },
    "language_info": {
      "name": "python"
    }
  },
  "nbformat": 4,
  "nbformat_minor": 0
}