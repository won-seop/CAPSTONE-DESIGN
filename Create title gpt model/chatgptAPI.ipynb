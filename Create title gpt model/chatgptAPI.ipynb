{
  "nbformat": 4,
  "nbformat_minor": 0,
  "metadata": {
    "colab": {
      "provenance": [],
      "collapsed_sections": [
        "vEc79Madpn53"
      ],
      "include_colab_link": true
    },
    "kernelspec": {
      "name": "python3",
      "display_name": "Python 3"
    },
    "language_info": {
      "name": "python"
    }
  },
  "cells": [
    {
      "cell_type": "markdown",
      "metadata": {
        "id": "view-in-github",
        "colab_type": "text"
      },
      "source": [
        "<a href=\"https://colab.research.google.com/github/won-seop/CAPSTONE-DESIGN/blob/main/chatgptAPI.ipynb\" target=\"_parent\"><img src=\"https://colab.research.google.com/assets/colab-badge.svg\" alt=\"Open In Colab\"/></a>"
      ]
    },
    {
      "cell_type": "code",
      "source": [
        "from google.colab import drive\n",
        "drive.mount('/content/drive')"
      ],
      "metadata": {
        "colab": {
          "base_uri": "https://localhost:8080/",
          "height": 352
        },
        "id": "ftTcDmwvOyvQ",
        "outputId": "ba7038ad-8bee-407d-ff49-19938e8b4e66"
      },
      "execution_count": null,
      "outputs": [
        {
          "output_type": "error",
          "ename": "MessageError",
          "evalue": "ignored",
          "traceback": [
            "\u001b[0;31m---------------------------------------------------------------------------\u001b[0m",
            "\u001b[0;31mMessageError\u001b[0m                              Traceback (most recent call last)",
            "\u001b[0;32m<ipython-input-1-d5df0069828e>\u001b[0m in \u001b[0;36m<cell line: 2>\u001b[0;34m()\u001b[0m\n\u001b[1;32m      1\u001b[0m \u001b[0;32mfrom\u001b[0m \u001b[0mgoogle\u001b[0m\u001b[0;34m.\u001b[0m\u001b[0mcolab\u001b[0m \u001b[0;32mimport\u001b[0m \u001b[0mdrive\u001b[0m\u001b[0;34m\u001b[0m\u001b[0;34m\u001b[0m\u001b[0m\n\u001b[0;32m----> 2\u001b[0;31m \u001b[0mdrive\u001b[0m\u001b[0;34m.\u001b[0m\u001b[0mmount\u001b[0m\u001b[0;34m(\u001b[0m\u001b[0;34m'/content/drive'\u001b[0m\u001b[0;34m)\u001b[0m\u001b[0;34m\u001b[0m\u001b[0;34m\u001b[0m\u001b[0m\n\u001b[0m",
            "\u001b[0;32m/usr/local/lib/python3.10/dist-packages/google/colab/drive.py\u001b[0m in \u001b[0;36mmount\u001b[0;34m(mountpoint, force_remount, timeout_ms, readonly)\u001b[0m\n\u001b[1;32m    101\u001b[0m \u001b[0;32mdef\u001b[0m \u001b[0mmount\u001b[0m\u001b[0;34m(\u001b[0m\u001b[0mmountpoint\u001b[0m\u001b[0;34m,\u001b[0m \u001b[0mforce_remount\u001b[0m\u001b[0;34m=\u001b[0m\u001b[0;32mFalse\u001b[0m\u001b[0;34m,\u001b[0m \u001b[0mtimeout_ms\u001b[0m\u001b[0;34m=\u001b[0m\u001b[0;36m120000\u001b[0m\u001b[0;34m,\u001b[0m \u001b[0mreadonly\u001b[0m\u001b[0;34m=\u001b[0m\u001b[0;32mFalse\u001b[0m\u001b[0;34m)\u001b[0m\u001b[0;34m:\u001b[0m\u001b[0;34m\u001b[0m\u001b[0;34m\u001b[0m\u001b[0m\n\u001b[1;32m    102\u001b[0m   \u001b[0;34m\"\"\"Mount your Google Drive at the specified mountpoint path.\"\"\"\u001b[0m\u001b[0;34m\u001b[0m\u001b[0;34m\u001b[0m\u001b[0m\n\u001b[0;32m--> 103\u001b[0;31m   return _mount(\n\u001b[0m\u001b[1;32m    104\u001b[0m       \u001b[0mmountpoint\u001b[0m\u001b[0;34m,\u001b[0m\u001b[0;34m\u001b[0m\u001b[0;34m\u001b[0m\u001b[0m\n\u001b[1;32m    105\u001b[0m       \u001b[0mforce_remount\u001b[0m\u001b[0;34m=\u001b[0m\u001b[0mforce_remount\u001b[0m\u001b[0;34m,\u001b[0m\u001b[0;34m\u001b[0m\u001b[0;34m\u001b[0m\u001b[0m\n",
            "\u001b[0;32m/usr/local/lib/python3.10/dist-packages/google/colab/drive.py\u001b[0m in \u001b[0;36m_mount\u001b[0;34m(mountpoint, force_remount, timeout_ms, ephemeral, readonly)\u001b[0m\n\u001b[1;32m    130\u001b[0m   )\n\u001b[1;32m    131\u001b[0m   \u001b[0;32mif\u001b[0m \u001b[0mephemeral\u001b[0m\u001b[0;34m:\u001b[0m\u001b[0;34m\u001b[0m\u001b[0;34m\u001b[0m\u001b[0m\n\u001b[0;32m--> 132\u001b[0;31m     _message.blocking_request(\n\u001b[0m\u001b[1;32m    133\u001b[0m         \u001b[0;34m'request_auth'\u001b[0m\u001b[0;34m,\u001b[0m \u001b[0mrequest\u001b[0m\u001b[0;34m=\u001b[0m\u001b[0;34m{\u001b[0m\u001b[0;34m'authType'\u001b[0m\u001b[0;34m:\u001b[0m \u001b[0;34m'dfs_ephemeral'\u001b[0m\u001b[0;34m}\u001b[0m\u001b[0;34m,\u001b[0m \u001b[0mtimeout_sec\u001b[0m\u001b[0;34m=\u001b[0m\u001b[0;32mNone\u001b[0m\u001b[0;34m\u001b[0m\u001b[0;34m\u001b[0m\u001b[0m\n\u001b[1;32m    134\u001b[0m     )\n",
            "\u001b[0;32m/usr/local/lib/python3.10/dist-packages/google/colab/_message.py\u001b[0m in \u001b[0;36mblocking_request\u001b[0;34m(request_type, request, timeout_sec, parent)\u001b[0m\n\u001b[1;32m    174\u001b[0m       \u001b[0mrequest_type\u001b[0m\u001b[0;34m,\u001b[0m \u001b[0mrequest\u001b[0m\u001b[0;34m,\u001b[0m \u001b[0mparent\u001b[0m\u001b[0;34m=\u001b[0m\u001b[0mparent\u001b[0m\u001b[0;34m,\u001b[0m \u001b[0mexpect_reply\u001b[0m\u001b[0;34m=\u001b[0m\u001b[0;32mTrue\u001b[0m\u001b[0;34m\u001b[0m\u001b[0;34m\u001b[0m\u001b[0m\n\u001b[1;32m    175\u001b[0m   )\n\u001b[0;32m--> 176\u001b[0;31m   \u001b[0;32mreturn\u001b[0m \u001b[0mread_reply_from_input\u001b[0m\u001b[0;34m(\u001b[0m\u001b[0mrequest_id\u001b[0m\u001b[0;34m,\u001b[0m \u001b[0mtimeout_sec\u001b[0m\u001b[0;34m)\u001b[0m\u001b[0;34m\u001b[0m\u001b[0;34m\u001b[0m\u001b[0m\n\u001b[0m",
            "\u001b[0;32m/usr/local/lib/python3.10/dist-packages/google/colab/_message.py\u001b[0m in \u001b[0;36mread_reply_from_input\u001b[0;34m(message_id, timeout_sec)\u001b[0m\n\u001b[1;32m    101\u001b[0m     ):\n\u001b[1;32m    102\u001b[0m       \u001b[0;32mif\u001b[0m \u001b[0;34m'error'\u001b[0m \u001b[0;32min\u001b[0m \u001b[0mreply\u001b[0m\u001b[0;34m:\u001b[0m\u001b[0;34m\u001b[0m\u001b[0;34m\u001b[0m\u001b[0m\n\u001b[0;32m--> 103\u001b[0;31m         \u001b[0;32mraise\u001b[0m \u001b[0mMessageError\u001b[0m\u001b[0;34m(\u001b[0m\u001b[0mreply\u001b[0m\u001b[0;34m[\u001b[0m\u001b[0;34m'error'\u001b[0m\u001b[0;34m]\u001b[0m\u001b[0;34m)\u001b[0m\u001b[0;34m\u001b[0m\u001b[0;34m\u001b[0m\u001b[0m\n\u001b[0m\u001b[1;32m    104\u001b[0m       \u001b[0;32mreturn\u001b[0m \u001b[0mreply\u001b[0m\u001b[0;34m.\u001b[0m\u001b[0mget\u001b[0m\u001b[0;34m(\u001b[0m\u001b[0;34m'data'\u001b[0m\u001b[0;34m,\u001b[0m \u001b[0;32mNone\u001b[0m\u001b[0;34m)\u001b[0m\u001b[0;34m\u001b[0m\u001b[0;34m\u001b[0m\u001b[0m\n\u001b[1;32m    105\u001b[0m \u001b[0;34m\u001b[0m\u001b[0m\n",
            "\u001b[0;31mMessageError\u001b[0m: Error: credential propagation was unsuccessful"
          ]
        }
      ]
    },
    {
      "cell_type": "code",
      "source": [
        "import torch\n",
        "torch.cuda.is_available()"
      ],
      "metadata": {
        "colab": {
          "base_uri": "https://localhost:8080/"
        },
        "id": "3TlopVWS5-E1",
        "outputId": "952d258d-ea83-43a7-bd31-9f184fa2ea75"
      },
      "execution_count": null,
      "outputs": [
        {
          "output_type": "execute_result",
          "data": {
            "text/plain": [
              "False"
            ]
          },
          "metadata": {},
          "execution_count": 2
        }
      ]
    },
    {
      "cell_type": "code",
      "execution_count": null,
      "metadata": {
        "colab": {
          "base_uri": "https://localhost:8080/"
        },
        "id": "nzCM-SJhN8LG",
        "outputId": "55bf2922-addc-4ae2-eb27-a44203f90374"
      },
      "outputs": [
        {
          "output_type": "stream",
          "name": "stdout",
          "text": [
            "Collecting openai\n",
            "  Downloading openai-0.28.1-py3-none-any.whl (76 kB)\n",
            "\u001b[2K     \u001b[90m━━━━━━━━━━━━━━━━━━━━━━━━━━━━━━━━━━━━━━━━\u001b[0m \u001b[32m77.0/77.0 kB\u001b[0m \u001b[31m1.4 MB/s\u001b[0m eta \u001b[36m0:00:00\u001b[0m\n",
            "\u001b[?25hRequirement already satisfied: requests>=2.20 in /usr/local/lib/python3.10/dist-packages (from openai) (2.31.0)\n",
            "Requirement already satisfied: tqdm in /usr/local/lib/python3.10/dist-packages (from openai) (4.66.1)\n",
            "Requirement already satisfied: aiohttp in /usr/local/lib/python3.10/dist-packages (from openai) (3.8.6)\n",
            "Requirement already satisfied: charset-normalizer<4,>=2 in /usr/local/lib/python3.10/dist-packages (from requests>=2.20->openai) (3.3.1)\n",
            "Requirement already satisfied: idna<4,>=2.5 in /usr/local/lib/python3.10/dist-packages (from requests>=2.20->openai) (3.4)\n",
            "Requirement already satisfied: urllib3<3,>=1.21.1 in /usr/local/lib/python3.10/dist-packages (from requests>=2.20->openai) (2.0.7)\n",
            "Requirement already satisfied: certifi>=2017.4.17 in /usr/local/lib/python3.10/dist-packages (from requests>=2.20->openai) (2023.7.22)\n",
            "Requirement already satisfied: attrs>=17.3.0 in /usr/local/lib/python3.10/dist-packages (from aiohttp->openai) (23.1.0)\n",
            "Requirement already satisfied: multidict<7.0,>=4.5 in /usr/local/lib/python3.10/dist-packages (from aiohttp->openai) (6.0.4)\n",
            "Requirement already satisfied: async-timeout<5.0,>=4.0.0a3 in /usr/local/lib/python3.10/dist-packages (from aiohttp->openai) (4.0.3)\n",
            "Requirement already satisfied: yarl<2.0,>=1.0 in /usr/local/lib/python3.10/dist-packages (from aiohttp->openai) (1.9.2)\n",
            "Requirement already satisfied: frozenlist>=1.1.1 in /usr/local/lib/python3.10/dist-packages (from aiohttp->openai) (1.4.0)\n",
            "Requirement already satisfied: aiosignal>=1.1.2 in /usr/local/lib/python3.10/dist-packages (from aiohttp->openai) (1.3.1)\n",
            "Installing collected packages: openai\n",
            "\u001b[31mERROR: pip's dependency resolver does not currently take into account all the packages that are installed. This behaviour is the source of the following dependency conflicts.\n",
            "llmx 0.0.15a0 requires cohere, which is not installed.\n",
            "llmx 0.0.15a0 requires tiktoken, which is not installed.\u001b[0m\u001b[31m\n",
            "\u001b[0mSuccessfully installed openai-0.28.1\n"
          ]
        }
      ],
      "source": [
        "pip install --upgrade openai"
      ]
    },
    {
      "cell_type": "code",
      "source": [
        "import pandas as pd\n",
        "from tqdm import tqdm"
      ],
      "metadata": {
        "id": "1WZ5BtNSCtIr"
      },
      "execution_count": null,
      "outputs": []
    },
    {
      "cell_type": "code",
      "source": [
        "import openai\n",
        "openai.api_key = (\"\") # -> gpt key"
      ],
      "metadata": {
        "id": "kiynLswHFK1Q"
      },
      "execution_count": null,
      "outputs": []
    },
    {
      "cell_type": "code",
      "source": [
        "df = pd.read_csv('drive/MyDrive/mydata.csv')\n",
        "df = df[~df['keyword'].isnull()]\n",
        "df"
      ],
      "metadata": {
        "id": "ls50Rt9JCxQO",
        "colab": {
          "base_uri": "https://localhost:8080/",
          "height": 423
        },
        "outputId": "a0468451-fa93-43aa-f4cf-a55ad3e37859"
      },
      "execution_count": null,
      "outputs": [
        {
          "output_type": "execute_result",
          "data": {
            "text/plain": [
              "                                              title_data  \\\n",
              "0                                         나홀로 아이폰 사러 오사카   \n",
              "1      김광석님이라니 대한민국 과학기술대전의 놀라운 현장 걱정하지 마세요 미래는 준비돼 있습니다   \n",
              "2                         노션 사용기 업무용 단기계획용 이력서용 노션 만드는 법   \n",
              "3               갤럭시 어떻게 나올까 정말 네이밍이 바뀔까 들려오는 소식들 정리했습니다    \n",
              "4         갤럭시버즈라이브 에어팟프로 비교 들어갈게 최신 무선이어폰 사운드 통화연결 노캔 비교   \n",
              "...                                                  ...   \n",
              "42803                                       대폭발 부동산이 미쳤다   \n",
              "42804                                     앞으로도 전세는 절망적이다   \n",
              "42805                     충격 불과 일주일만에 이렇게나 떨어지다니집주인들 날벼락   \n",
              "42806                                         하반기 부동산 전망   \n",
              "42807                          대구 인천 최대 입주폭탄까지 쏟아진다 큰일났다   \n",
              "\n",
              "                       keyword  \n",
              "0                 나홀, 아이폰, 오사카  \n",
              "1        대한민국, 걱정, 미래, 김광석님이라니  \n",
              "2            노션, 이력서용, 사용기, 노션  \n",
              "3            네이밍, 정리, 갤럭시, 소식들  \n",
              "4         비교, 에어팟프, 무선이어폰, 사운드  \n",
              "...                        ...  \n",
              "42803                 대폭발, 부동산  \n",
              "42804               앞, 전세, 절망적  \n",
              "42805  일주일, 떨어지다니집주인들, 날벼락, 충격  \n",
              "42806             하반기, 부동산, 전망  \n",
              "42807         최대, 인천, 입주폭탄, 대구  \n",
              "\n",
              "[42769 rows x 2 columns]"
            ],
            "text/html": [
              "\n",
              "  <div id=\"df-ff497de6-efbd-4961-9be5-1502f80e5f75\" class=\"colab-df-container\">\n",
              "    <div>\n",
              "<style scoped>\n",
              "    .dataframe tbody tr th:only-of-type {\n",
              "        vertical-align: middle;\n",
              "    }\n",
              "\n",
              "    .dataframe tbody tr th {\n",
              "        vertical-align: top;\n",
              "    }\n",
              "\n",
              "    .dataframe thead th {\n",
              "        text-align: right;\n",
              "    }\n",
              "</style>\n",
              "<table border=\"1\" class=\"dataframe\">\n",
              "  <thead>\n",
              "    <tr style=\"text-align: right;\">\n",
              "      <th></th>\n",
              "      <th>title_data</th>\n",
              "      <th>keyword</th>\n",
              "    </tr>\n",
              "  </thead>\n",
              "  <tbody>\n",
              "    <tr>\n",
              "      <th>0</th>\n",
              "      <td>나홀로 아이폰 사러 오사카</td>\n",
              "      <td>나홀, 아이폰, 오사카</td>\n",
              "    </tr>\n",
              "    <tr>\n",
              "      <th>1</th>\n",
              "      <td>김광석님이라니 대한민국 과학기술대전의 놀라운 현장 걱정하지 마세요 미래는 준비돼 있습니다</td>\n",
              "      <td>대한민국, 걱정, 미래, 김광석님이라니</td>\n",
              "    </tr>\n",
              "    <tr>\n",
              "      <th>2</th>\n",
              "      <td>노션 사용기 업무용 단기계획용 이력서용 노션 만드는 법</td>\n",
              "      <td>노션, 이력서용, 사용기, 노션</td>\n",
              "    </tr>\n",
              "    <tr>\n",
              "      <th>3</th>\n",
              "      <td>갤럭시 어떻게 나올까 정말 네이밍이 바뀔까 들려오는 소식들 정리했습니다</td>\n",
              "      <td>네이밍, 정리, 갤럭시, 소식들</td>\n",
              "    </tr>\n",
              "    <tr>\n",
              "      <th>4</th>\n",
              "      <td>갤럭시버즈라이브 에어팟프로 비교 들어갈게 최신 무선이어폰 사운드 통화연결 노캔 비교</td>\n",
              "      <td>비교, 에어팟프, 무선이어폰, 사운드</td>\n",
              "    </tr>\n",
              "    <tr>\n",
              "      <th>...</th>\n",
              "      <td>...</td>\n",
              "      <td>...</td>\n",
              "    </tr>\n",
              "    <tr>\n",
              "      <th>42803</th>\n",
              "      <td>대폭발 부동산이 미쳤다</td>\n",
              "      <td>대폭발, 부동산</td>\n",
              "    </tr>\n",
              "    <tr>\n",
              "      <th>42804</th>\n",
              "      <td>앞으로도 전세는 절망적이다</td>\n",
              "      <td>앞, 전세, 절망적</td>\n",
              "    </tr>\n",
              "    <tr>\n",
              "      <th>42805</th>\n",
              "      <td>충격 불과 일주일만에 이렇게나 떨어지다니집주인들 날벼락</td>\n",
              "      <td>일주일, 떨어지다니집주인들, 날벼락, 충격</td>\n",
              "    </tr>\n",
              "    <tr>\n",
              "      <th>42806</th>\n",
              "      <td>하반기 부동산 전망</td>\n",
              "      <td>하반기, 부동산, 전망</td>\n",
              "    </tr>\n",
              "    <tr>\n",
              "      <th>42807</th>\n",
              "      <td>대구 인천 최대 입주폭탄까지 쏟아진다 큰일났다</td>\n",
              "      <td>최대, 인천, 입주폭탄, 대구</td>\n",
              "    </tr>\n",
              "  </tbody>\n",
              "</table>\n",
              "<p>42769 rows × 2 columns</p>\n",
              "</div>\n",
              "    <div class=\"colab-df-buttons\">\n",
              "\n",
              "  <div class=\"colab-df-container\">\n",
              "    <button class=\"colab-df-convert\" onclick=\"convertToInteractive('df-ff497de6-efbd-4961-9be5-1502f80e5f75')\"\n",
              "            title=\"Convert this dataframe to an interactive table.\"\n",
              "            style=\"display:none;\">\n",
              "\n",
              "  <svg xmlns=\"http://www.w3.org/2000/svg\" height=\"24px\" viewBox=\"0 -960 960 960\">\n",
              "    <path d=\"M120-120v-720h720v720H120Zm60-500h600v-160H180v160Zm220 220h160v-160H400v160Zm0 220h160v-160H400v160ZM180-400h160v-160H180v160Zm440 0h160v-160H620v160ZM180-180h160v-160H180v160Zm440 0h160v-160H620v160Z\"/>\n",
              "  </svg>\n",
              "    </button>\n",
              "\n",
              "  <style>\n",
              "    .colab-df-container {\n",
              "      display:flex;\n",
              "      gap: 12px;\n",
              "    }\n",
              "\n",
              "    .colab-df-convert {\n",
              "      background-color: #E8F0FE;\n",
              "      border: none;\n",
              "      border-radius: 50%;\n",
              "      cursor: pointer;\n",
              "      display: none;\n",
              "      fill: #1967D2;\n",
              "      height: 32px;\n",
              "      padding: 0 0 0 0;\n",
              "      width: 32px;\n",
              "    }\n",
              "\n",
              "    .colab-df-convert:hover {\n",
              "      background-color: #E2EBFA;\n",
              "      box-shadow: 0px 1px 2px rgba(60, 64, 67, 0.3), 0px 1px 3px 1px rgba(60, 64, 67, 0.15);\n",
              "      fill: #174EA6;\n",
              "    }\n",
              "\n",
              "    .colab-df-buttons div {\n",
              "      margin-bottom: 4px;\n",
              "    }\n",
              "\n",
              "    [theme=dark] .colab-df-convert {\n",
              "      background-color: #3B4455;\n",
              "      fill: #D2E3FC;\n",
              "    }\n",
              "\n",
              "    [theme=dark] .colab-df-convert:hover {\n",
              "      background-color: #434B5C;\n",
              "      box-shadow: 0px 1px 3px 1px rgba(0, 0, 0, 0.15);\n",
              "      filter: drop-shadow(0px 1px 2px rgba(0, 0, 0, 0.3));\n",
              "      fill: #FFFFFF;\n",
              "    }\n",
              "  </style>\n",
              "\n",
              "    <script>\n",
              "      const buttonEl =\n",
              "        document.querySelector('#df-ff497de6-efbd-4961-9be5-1502f80e5f75 button.colab-df-convert');\n",
              "      buttonEl.style.display =\n",
              "        google.colab.kernel.accessAllowed ? 'block' : 'none';\n",
              "\n",
              "      async function convertToInteractive(key) {\n",
              "        const element = document.querySelector('#df-ff497de6-efbd-4961-9be5-1502f80e5f75');\n",
              "        const dataTable =\n",
              "          await google.colab.kernel.invokeFunction('convertToInteractive',\n",
              "                                                    [key], {});\n",
              "        if (!dataTable) return;\n",
              "\n",
              "        const docLinkHtml = 'Like what you see? Visit the ' +\n",
              "          '<a target=\"_blank\" href=https://colab.research.google.com/notebooks/data_table.ipynb>data table notebook</a>'\n",
              "          + ' to learn more about interactive tables.';\n",
              "        element.innerHTML = '';\n",
              "        dataTable['output_type'] = 'display_data';\n",
              "        await google.colab.output.renderOutput(dataTable, element);\n",
              "        const docLink = document.createElement('div');\n",
              "        docLink.innerHTML = docLinkHtml;\n",
              "        element.appendChild(docLink);\n",
              "      }\n",
              "    </script>\n",
              "  </div>\n",
              "\n",
              "\n",
              "<div id=\"df-231197cb-6e16-4980-9186-18074a000841\">\n",
              "  <button class=\"colab-df-quickchart\" onclick=\"quickchart('df-231197cb-6e16-4980-9186-18074a000841')\"\n",
              "            title=\"Suggest charts.\"\n",
              "            style=\"display:none;\">\n",
              "\n",
              "<svg xmlns=\"http://www.w3.org/2000/svg\" height=\"24px\"viewBox=\"0 0 24 24\"\n",
              "     width=\"24px\">\n",
              "    <g>\n",
              "        <path d=\"M19 3H5c-1.1 0-2 .9-2 2v14c0 1.1.9 2 2 2h14c1.1 0 2-.9 2-2V5c0-1.1-.9-2-2-2zM9 17H7v-7h2v7zm4 0h-2V7h2v10zm4 0h-2v-4h2v4z\"/>\n",
              "    </g>\n",
              "</svg>\n",
              "  </button>\n",
              "\n",
              "<style>\n",
              "  .colab-df-quickchart {\n",
              "      --bg-color: #E8F0FE;\n",
              "      --fill-color: #1967D2;\n",
              "      --hover-bg-color: #E2EBFA;\n",
              "      --hover-fill-color: #174EA6;\n",
              "      --disabled-fill-color: #AAA;\n",
              "      --disabled-bg-color: #DDD;\n",
              "  }\n",
              "\n",
              "  [theme=dark] .colab-df-quickchart {\n",
              "      --bg-color: #3B4455;\n",
              "      --fill-color: #D2E3FC;\n",
              "      --hover-bg-color: #434B5C;\n",
              "      --hover-fill-color: #FFFFFF;\n",
              "      --disabled-bg-color: #3B4455;\n",
              "      --disabled-fill-color: #666;\n",
              "  }\n",
              "\n",
              "  .colab-df-quickchart {\n",
              "    background-color: var(--bg-color);\n",
              "    border: none;\n",
              "    border-radius: 50%;\n",
              "    cursor: pointer;\n",
              "    display: none;\n",
              "    fill: var(--fill-color);\n",
              "    height: 32px;\n",
              "    padding: 0;\n",
              "    width: 32px;\n",
              "  }\n",
              "\n",
              "  .colab-df-quickchart:hover {\n",
              "    background-color: var(--hover-bg-color);\n",
              "    box-shadow: 0 1px 2px rgba(60, 64, 67, 0.3), 0 1px 3px 1px rgba(60, 64, 67, 0.15);\n",
              "    fill: var(--button-hover-fill-color);\n",
              "  }\n",
              "\n",
              "  .colab-df-quickchart-complete:disabled,\n",
              "  .colab-df-quickchart-complete:disabled:hover {\n",
              "    background-color: var(--disabled-bg-color);\n",
              "    fill: var(--disabled-fill-color);\n",
              "    box-shadow: none;\n",
              "  }\n",
              "\n",
              "  .colab-df-spinner {\n",
              "    border: 2px solid var(--fill-color);\n",
              "    border-color: transparent;\n",
              "    border-bottom-color: var(--fill-color);\n",
              "    animation:\n",
              "      spin 1s steps(1) infinite;\n",
              "  }\n",
              "\n",
              "  @keyframes spin {\n",
              "    0% {\n",
              "      border-color: transparent;\n",
              "      border-bottom-color: var(--fill-color);\n",
              "      border-left-color: var(--fill-color);\n",
              "    }\n",
              "    20% {\n",
              "      border-color: transparent;\n",
              "      border-left-color: var(--fill-color);\n",
              "      border-top-color: var(--fill-color);\n",
              "    }\n",
              "    30% {\n",
              "      border-color: transparent;\n",
              "      border-left-color: var(--fill-color);\n",
              "      border-top-color: var(--fill-color);\n",
              "      border-right-color: var(--fill-color);\n",
              "    }\n",
              "    40% {\n",
              "      border-color: transparent;\n",
              "      border-right-color: var(--fill-color);\n",
              "      border-top-color: var(--fill-color);\n",
              "    }\n",
              "    60% {\n",
              "      border-color: transparent;\n",
              "      border-right-color: var(--fill-color);\n",
              "    }\n",
              "    80% {\n",
              "      border-color: transparent;\n",
              "      border-right-color: var(--fill-color);\n",
              "      border-bottom-color: var(--fill-color);\n",
              "    }\n",
              "    90% {\n",
              "      border-color: transparent;\n",
              "      border-bottom-color: var(--fill-color);\n",
              "    }\n",
              "  }\n",
              "</style>\n",
              "\n",
              "  <script>\n",
              "    async function quickchart(key) {\n",
              "      const quickchartButtonEl =\n",
              "        document.querySelector('#' + key + ' button');\n",
              "      quickchartButtonEl.disabled = true;  // To prevent multiple clicks.\n",
              "      quickchartButtonEl.classList.add('colab-df-spinner');\n",
              "      try {\n",
              "        const charts = await google.colab.kernel.invokeFunction(\n",
              "            'suggestCharts', [key], {});\n",
              "      } catch (error) {\n",
              "        console.error('Error during call to suggestCharts:', error);\n",
              "      }\n",
              "      quickchartButtonEl.classList.remove('colab-df-spinner');\n",
              "      quickchartButtonEl.classList.add('colab-df-quickchart-complete');\n",
              "    }\n",
              "    (() => {\n",
              "      let quickchartButtonEl =\n",
              "        document.querySelector('#df-231197cb-6e16-4980-9186-18074a000841 button');\n",
              "      quickchartButtonEl.style.display =\n",
              "        google.colab.kernel.accessAllowed ? 'block' : 'none';\n",
              "    })();\n",
              "  </script>\n",
              "</div>\n",
              "    </div>\n",
              "  </div>\n"
            ]
          },
          "metadata": {},
          "execution_count": 6
        }
      ]
    },
    {
      "cell_type": "markdown",
      "source": [
        "# **Completion 모델인 Davinci-002 사용**"
      ],
      "metadata": {
        "id": "vEc79Madpn53"
      }
    },
    {
      "cell_type": "code",
      "source": [
        "messages = []\n",
        "\n",
        "for i, row in tqdm(df.iterrows()):\n",
        "  try:\n",
        "    message = {\n",
        "        \"prompt\": df.iloc[i][\"keyword\"],\n",
        "        \"completion\": df.iloc[i][\"title_data\"]\n",
        "    }\n",
        "    messages.append(message)\n",
        "  except:\n",
        "    break"
      ],
      "metadata": {
        "id": "jVoZj-thCaxk"
      },
      "execution_count": null,
      "outputs": []
    },
    {
      "cell_type": "code",
      "source": [
        "messages[:5]"
      ],
      "metadata": {
        "id": "PDZZ76WmAxLS"
      },
      "execution_count": null,
      "outputs": []
    },
    {
      "cell_type": "code",
      "source": [
        "import json\n",
        "\n",
        "with open(\"message.jsonl\", \"w\", encoding=\"utf-8\") as f:\n",
        "  for entry in messages:\n",
        "    json.dump(entry, f, ensure_ascii=False)\n",
        "    f.write('\\n')"
      ],
      "metadata": {
        "id": "DEtwBvdUFDZT"
      },
      "execution_count": null,
      "outputs": []
    },
    {
      "cell_type": "code",
      "source": [
        "openai.File.create(\n",
        "    file=open(\"message.jsonl\", \"rb\"),\n",
        "    purpose='fine-tune'\n",
        ")"
      ],
      "metadata": {
        "id": "tzWCwdk3OeKR"
      },
      "execution_count": null,
      "outputs": []
    },
    {
      "cell_type": "code",
      "source": [
        "id = \"file-sgvm37RhC5E337eTaIbBsKhC\"\n",
        "\n",
        "openai.FineTuningJob.create(\n",
        "    training_file=id,\n",
        "    model=\"davinci-002\"\n",
        ")"
      ],
      "metadata": {
        "id": "9vmkIj3NupX6"
      },
      "execution_count": null,
      "outputs": []
    },
    {
      "cell_type": "code",
      "source": [
        "model_id = \"ft:davinci-002:personal::7xsBgO2c\"\n",
        "\n",
        "user_input = \"우울, 힐링, asmr\" # keyword -> 제목 5개 뽑아줘\n",
        "\n",
        "response = openai.Completion.create(\n",
        "    model=model_id,\n",
        "    prompt=user_input\n",
        ")"
      ],
      "metadata": {
        "id": "kKPahCaD5eXQ"
      },
      "execution_count": null,
      "outputs": []
    },
    {
      "cell_type": "code",
      "source": [
        "print(response['choices'][0]['text'])"
      ],
      "metadata": {
        "id": "I_CMpSO4qltH"
      },
      "execution_count": null,
      "outputs": []
    },
    {
      "cell_type": "markdown",
      "source": [
        "# ***GPT-3.5 Turbo***\n",
        "**Fine Tuning**"
      ],
      "metadata": {
        "id": "aDtj5Fa9B5yg"
      }
    },
    {
      "cell_type": "code",
      "source": [
        "messages = []\n",
        "\n",
        "for i, row in tqdm(df.iterrows()):\n",
        "  try:\n",
        "    message = {\n",
        "        \"messages\": [\n",
        "            {\"role\": \"system\", \"content\": \"ChatTitle is a Youtube title generator using keyword.\"},\n",
        "            {\"role\": \"user\", \"content\": df.iloc[i][\"keyword\"]},\n",
        "            {\"role\": \"assistant\", \"content\": df.iloc[i][\"title_data\"]}\n",
        "        ]}\n",
        "\n",
        "    messages.append(message)\n",
        "  except:\n",
        "    break\n",
        "\n",
        "messages[-5:]"
      ],
      "metadata": {
        "colab": {
          "base_uri": "https://localhost:8080/"
        },
        "id": "xMUL9sP6CXlS",
        "outputId": "99ae71d8-90f2-461c-db52-2bcf840aaf37"
      },
      "execution_count": null,
      "outputs": [
        {
          "output_type": "stream",
          "name": "stderr",
          "text": [
            "42730it [00:06, 6264.18it/s]\n"
          ]
        },
        {
          "output_type": "execute_result",
          "data": {
            "text/plain": [
              "[{'messages': [{'role': 'system',\n",
              "    'content': 'ChatTitle is a Youtube title generator using keyword.'},\n",
              "   {'role': 'user', 'content': '대폭발, 부동산'},\n",
              "   {'role': 'assistant', 'content': '대폭발 부동산이 미쳤다'}]},\n",
              " {'messages': [{'role': 'system',\n",
              "    'content': 'ChatTitle is a Youtube title generator using keyword.'},\n",
              "   {'role': 'user', 'content': '앞, 전세, 절망적'},\n",
              "   {'role': 'assistant', 'content': '앞으로도 전세는 절망적이다'}]},\n",
              " {'messages': [{'role': 'system',\n",
              "    'content': 'ChatTitle is a Youtube title generator using keyword.'},\n",
              "   {'role': 'user', 'content': '일주일, 떨어지다니집주인들, 날벼락, 충격'},\n",
              "   {'role': 'assistant', 'content': '충격 불과 일주일만에 이렇게나 떨어지다니집주인들 날벼락'}]},\n",
              " {'messages': [{'role': 'system',\n",
              "    'content': 'ChatTitle is a Youtube title generator using keyword.'},\n",
              "   {'role': 'user', 'content': '하반기, 부동산, 전망'},\n",
              "   {'role': 'assistant', 'content': '하반기 부동산 전망'}]},\n",
              " {'messages': [{'role': 'system',\n",
              "    'content': 'ChatTitle is a Youtube title generator using keyword.'},\n",
              "   {'role': 'user', 'content': '최대, 인천, 입주폭탄, 대구'},\n",
              "   {'role': 'assistant', 'content': '대구 인천 최대 입주폭탄까지 쏟아진다 큰일났다'}]}]"
            ]
          },
          "metadata": {},
          "execution_count": 9
        }
      ]
    },
    {
      "cell_type": "code",
      "source": [
        "import json\n",
        "\n",
        "with open(\"message.jsonl\", \"w\", encoding=\"utf-8\") as f:\n",
        "  for entry in messages:\n",
        "    json.dump(entry, f, ensure_ascii=False)\n",
        "    f.write('\\n')"
      ],
      "metadata": {
        "id": "GWZ-xeN0EtQ7"
      },
      "execution_count": null,
      "outputs": []
    },
    {
      "cell_type": "code",
      "source": [
        "openai.File.create(\n",
        "    file=open(\"message.jsonl\", \"rb\"),\n",
        "    purpose='fine-tune'\n",
        ")"
      ],
      "metadata": {
        "colab": {
          "base_uri": "https://localhost:8080/"
        },
        "id": "W2LEBfA8E5Lh",
        "outputId": "e2929237-b8c5-4dd9-84ea-c7019e64a04b"
      },
      "execution_count": null,
      "outputs": [
        {
          "output_type": "execute_result",
          "data": {
            "text/plain": [
              "<File file id=file-B4L6e3BmKEIysRFD5QPQsKoj at 0x7dcdbc09d350> JSON: {\n",
              "  \"object\": \"file\",\n",
              "  \"id\": \"file-B4L6e3BmKEIysRFD5QPQsKoj\",\n",
              "  \"purpose\": \"fine-tune\",\n",
              "  \"filename\": \"file\",\n",
              "  \"bytes\": 12398253,\n",
              "  \"created_at\": 1696322179,\n",
              "  \"status\": \"uploaded\",\n",
              "  \"status_details\": null\n",
              "}"
            ]
          },
          "metadata": {},
          "execution_count": 11
        }
      ]
    },
    {
      "cell_type": "code",
      "source": [
        "id = \"file-B4L6e3BmKEIysRFD5QPQsKoj\"\n",
        "\n",
        "openai.FineTuningJob.create(\n",
        "    training_file=id,\n",
        "    model=\"gpt-3.5-turbo\"\n",
        ")"
      ],
      "metadata": {
        "colab": {
          "base_uri": "https://localhost:8080/"
        },
        "id": "bEWAOTM8F1-O",
        "outputId": "3fd7e50e-10db-4098-9db5-512107d6aab7"
      },
      "execution_count": null,
      "outputs": [
        {
          "output_type": "execute_result",
          "data": {
            "text/plain": [
              "<FineTuningJob fine_tuning.job id=ftjob-m2X7iuHbCWlyiRTYytxgqVEW at 0x7a03d75b6610> JSON: {\n",
              "  \"object\": \"fine_tuning.job\",\n",
              "  \"id\": \"ftjob-m2X7iuHbCWlyiRTYytxgqVEW\",\n",
              "  \"model\": \"gpt-3.5-turbo-0613\",\n",
              "  \"created_at\": 1698735923,\n",
              "  \"finished_at\": null,\n",
              "  \"fine_tuned_model\": null,\n",
              "  \"organization_id\": \"org-eOqVyK8J5nFVuDc41DlWu6aO\",\n",
              "  \"result_files\": [],\n",
              "  \"status\": \"validating_files\",\n",
              "  \"validation_file\": null,\n",
              "  \"training_file\": \"file-B4L6e3BmKEIysRFD5QPQsKoj\",\n",
              "  \"hyperparameters\": {\n",
              "    \"n_epochs\": \"auto\"\n",
              "  },\n",
              "  \"trained_tokens\": null,\n",
              "  \"error\": null\n",
              "}"
            ]
          },
          "metadata": {},
          "execution_count": 6
        }
      ]
    },
    {
      "cell_type": "code",
      "source": [
        "openai.FineTuningJob.list(limit=10)"
      ],
      "metadata": {
        "colab": {
          "base_uri": "https://localhost:8080/"
        },
        "id": "bh4-O_tjGR3n",
        "outputId": "b5f175f4-35a1-47a9-b520-e3a958f1e4d7"
      },
      "execution_count": null,
      "outputs": [
        {
          "output_type": "execute_result",
          "data": {
            "text/plain": [
              "<OpenAIObject list at 0x7a59ef342f20> JSON: {\n",
              "  \"object\": \"list\",\n",
              "  \"data\": [\n",
              "    {\n",
              "      \"object\": \"fine_tuning.job\",\n",
              "      \"id\": \"ftjob-WUnakgqaehm0WpbnV1SoTXIF\",\n",
              "      \"model\": \"gpt-3.5-turbo-0613\",\n",
              "      \"created_at\": 1696322201,\n",
              "      \"finished_at\": 1696357750,\n",
              "      \"fine_tuned_model\": \"ft:gpt-3.5-turbo-0613:personal::85eQp6HM\",\n",
              "      \"organization_id\": \"org-eOqVyK8J5nFVuDc41DlWu6aO\",\n",
              "      \"result_files\": [\n",
              "        \"file-38eGtYisUfyPF5pvFHUJSmmP\"\n",
              "      ],\n",
              "      \"status\": \"succeeded\",\n",
              "      \"validation_file\": null,\n",
              "      \"training_file\": \"file-B4L6e3BmKEIysRFD5QPQsKoj\",\n",
              "      \"hyperparameters\": {\n",
              "        \"n_epochs\": 1\n",
              "      },\n",
              "      \"trained_tokens\": 3417306,\n",
              "      \"error\": null\n",
              "    },\n",
              "    {\n",
              "      \"object\": \"fine_tuning.job\",\n",
              "      \"id\": \"ftjob-zw8aakKTdkNR2TErm3zn7zZs\",\n",
              "      \"model\": \"gpt-3.5-turbo-0613\",\n",
              "      \"created_at\": 1694769074,\n",
              "      \"finished_at\": 1694772533,\n",
              "      \"fine_tuned_model\": \"ft:gpt-3.5-turbo-0613:personal::7z02oz39\",\n",
              "      \"organization_id\": \"org-eOqVyK8J5nFVuDc41DlWu6aO\",\n",
              "      \"result_files\": [\n",
              "        \"file-YtAJ6iEX5ILlPYuNcQI5ImHB\"\n",
              "      ],\n",
              "      \"status\": \"succeeded\",\n",
              "      \"validation_file\": null,\n",
              "      \"training_file\": \"file-nwDbiIjIJdx3y9TVeWY2kK0o\",\n",
              "      \"hyperparameters\": {\n",
              "        \"n_epochs\": 2\n",
              "      },\n",
              "      \"trained_tokens\": 1597738,\n",
              "      \"error\": null\n",
              "    },\n",
              "    {\n",
              "      \"object\": \"fine_tuning.job\",\n",
              "      \"id\": \"ftjob-Z0wNXExdob7GCM8PbFhgYfnd\",\n",
              "      \"model\": \"davinci-002\",\n",
              "      \"created_at\": 1694502904,\n",
              "      \"finished_at\": 1694504003,\n",
              "      \"fine_tuned_model\": \"ft:davinci-002:personal::7xsBgO2c\",\n",
              "      \"organization_id\": \"org-eOqVyK8J5nFVuDc41DlWu6aO\",\n",
              "      \"result_files\": [\n",
              "        \"file-CNWm6vw7ay39CEbKluP4UMpx\"\n",
              "      ],\n",
              "      \"status\": \"succeeded\",\n",
              "      \"validation_file\": null,\n",
              "      \"training_file\": \"file-sgvm37RhC5E337eTaIbBsKhC\",\n",
              "      \"hyperparameters\": {\n",
              "        \"n_epochs\": 2\n",
              "      },\n",
              "      \"trained_tokens\": 2006318,\n",
              "      \"error\": null\n",
              "    },\n",
              "    {\n",
              "      \"object\": \"fine_tuning.job\",\n",
              "      \"id\": \"ftjob-0Zuc2RT1JthKokoS0fyqRdG4\",\n",
              "      \"model\": \"davinci-002\",\n",
              "      \"created_at\": 1693806522,\n",
              "      \"finished_at\": 1693806627,\n",
              "      \"fine_tuned_model\": \"ft:davinci-002:personal::7uwlgtkX\",\n",
              "      \"organization_id\": \"org-eOqVyK8J5nFVuDc41DlWu6aO\",\n",
              "      \"result_files\": [\n",
              "        \"file-aC0hYZS9rLB0dqYt2mk2UCdz\"\n",
              "      ],\n",
              "      \"status\": \"succeeded\",\n",
              "      \"validation_file\": null,\n",
              "      \"training_file\": \"file-np3ee3HFUu3lc3NkjjqUcE8X\",\n",
              "      \"hyperparameters\": {\n",
              "        \"n_epochs\": 10\n",
              "      },\n",
              "      \"trained_tokens\": 10680,\n",
              "      \"error\": null\n",
              "    }\n",
              "  ],\n",
              "  \"has_more\": false\n",
              "}"
            ]
          },
          "metadata": {},
          "execution_count": 6
        }
      ]
    },
    {
      "cell_type": "code",
      "source": [
        "model_id = \"ft:gpt-3.5-turbo-0613:personal::85eQp6HM\"\n",
        "\n",
        "user_input = \"운동, 닭가슴살 ,식단 \" # keyword\n",
        "\n",
        "completions = []\n",
        "for i in range(3):\n",
        "  completion = openai.ChatCompletion.create(\n",
        "      model=model_id,\n",
        "      messages=[\n",
        "          {\"role\": \"system\", \"content\": \"ChatTitle is a youtube title generator using keyword.\"},\n",
        "          {\"role\": \"user\", \"content\": user_input}\n",
        "      ],\n",
        "      max_tokens=70\n",
        "  )\n",
        "  completions.append(completion.choices[0].message[\"content\"])\n"
      ],
      "metadata": {
        "id": "8PuoAh7rGFWn"
      },
      "execution_count": null,
      "outputs": []
    },
    {
      "cell_type": "code",
      "source": [
        "for completion in completions:\n",
        "  print(completion)"
      ],
      "metadata": {
        "colab": {
          "base_uri": "https://localhost:8080/"
        },
        "id": "vdQ-n17ThxsV",
        "outputId": "4322ce68-c958-4d57-82b4-d300cf7438d8"
      },
      "execution_count": null,
      "outputs": [
        {
          "output_type": "stream",
          "name": "stdout",
          "text": [
            "집 운동 걷기 닭가슴살 꽉찬  다이어트 식단 \n",
            "근손실 없이 다이어트 운동식 닭가슴살만 먹으면 어떤 일이 발생하는가\n",
            "한 달이면 운동원에 시달릴 것 같은데 코드개발식단 닭가슴살 코 쉽게 뻥튀기 시키는 굶는 방법\n"
          ]
        }
      ]
    },
    {
      "cell_type": "markdown",
      "source": [
        "# **프롬프트로 제목 생성(파인튜닝X)**"
      ],
      "metadata": {
        "id": "HMyyl5J2Wq_p"
      }
    },
    {
      "cell_type": "code",
      "source": [
        "def get_completion(prompt, model=\"gpt-3.5-turbo\"):\n",
        "    messages = [\n",
        "        {\"role\": \"user\", \"content\": prompt}]\n",
        "    response = openai.ChatCompletion.create(\n",
        "        model=model,\n",
        "        messages=messages\n",
        "    )\n",
        "\n",
        "    return response.choices[0].message[\"content\"]"
      ],
      "metadata": {
        "id": "Zqydxt-zV4vM"
      },
      "execution_count": null,
      "outputs": []
    },
    {
      "cell_type": "code",
      "source": [
        "keyword = \"운동, 식단, 닭가슴살\"\n",
        "\n",
        "prompt = f\"\"\"너는 지금 부터 유튜브 채널을 운영하는 콘텐츠 크리에이터야.\n",
        "\n",
        "키워드는 {keyword} 야.\n",
        "\n",
        "넌, 내가 만든 유튜브 동영상의 제목을 만들어야해.\n",
        "\n",
        "네가 만들어야할 “유튜브 동영상의 제목”은 아래 항목을 참고해서 만들어줘.\n",
        "\n",
        "[동영상제목 만들때 참고사항]\n",
        "1. 유튜브 검색 노출에 유리하도록 제목에 키워드를 넣어줘\n",
        "2. 제목 앞 부분에 주목을 끌수 있는 창의적이고 재미있는 단어로 시작해줘. 이게 매우 중요해!\n",
        "3. 주목을 끌만한 이모지를 여러개 사용해줘\n",
        "4. 제목의 전체적인 톤앤매너는 “설명적”이고 “유익한”느낌으로 만들어줘\n",
        "5. 길이는 한글로 70단어가 넘지 않도록 만들어줘\n",
        "\n",
        "내가 가장 적합한 것을 사용할 수 있도록 3개의 제목을 만들어줘.\"\"\"\n",
        "\n",
        "response = get_completion(prompt)\n",
        "print(response)"
      ],
      "metadata": {
        "colab": {
          "base_uri": "https://localhost:8080/"
        },
        "id": "VNtvDQQWWprI",
        "outputId": "1dfc2661-b074-49ce-ba05-666169f45dd5"
      },
      "execution_count": null,
      "outputs": [
        {
          "output_type": "stream",
          "name": "stdout",
          "text": [
            "1. 경이로운 닭가슴살 다이어트, 4주만에 탄탄한 몸으로 변신하자! 💪🥗\n",
            "2. 운동과 식단의 조합, 신나게 다이어트! 닭가슴살 레시피 공개 🏋️‍♀️🍽\n",
            "3. 노력없는 다이어트는 없다! 닭가슴살로 빠르고 효과적으로 살 빼는 법 알려줌 😎🍗\n"
          ]
        }
      ]
    }
  ]
}
